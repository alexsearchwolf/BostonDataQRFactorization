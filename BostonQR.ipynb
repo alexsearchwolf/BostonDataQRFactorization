{
 "cells": [
  {
   "cell_type": "code",
   "execution_count": 1,
   "metadata": {
    "collapsed": true
   },
   "outputs": [],
   "source": [
    "import numpy as np\n",
    "import pandas as pd\n",
    "import scipy as sc\n",
    "from sklearn.datasets import load_boston\n",
    "import matplotlib.pyplot as plt\n",
    "from sklearn.linear_model import LinearRegression\n",
    "from sklearn.model_selection import train_test_split\n",
    "import seaborn as sns\n",
    "import math\n",
    "import time\n",
    "from sklearn import datasets, linear_model, metrics\n",
    "from sklearn.model_selection import train_test_split\n",
    "from sklearn.preprocessing import PolynomialFeatures\n",
    "from scipy import linalg"
   ]
  },
  {
   "cell_type": "code",
   "execution_count": 2,
   "metadata": {
    "collapsed": true
   },
   "outputs": [],
   "source": [
    "bostonData = load_boston()"
   ]
  },
  {
   "cell_type": "code",
   "execution_count": 3,
   "metadata": {},
   "outputs": [
    {
     "name": "stdout",
     "output_type": "stream",
     "text": [
      "Boston keys: dict_keys(['data', 'target', 'feature_names', 'DESCR'])\n",
      "\n",
      "Boston data shape: (506, 13)\n",
      "\n",
      "Boston feature names: ['CRIM' 'ZN' 'INDUS' 'CHAS' 'NOX' 'RM' 'AGE' 'DIS' 'RAD' 'TAX' 'PTRATIO'\n",
      " 'B' 'LSTAT']\n",
      "\n"
     ]
    }
   ],
   "source": [
    "print(\"Boston keys: \" + str(bostonData.keys()) + \"\\n\")\n",
    "print(\"Boston data shape: \" + str(bostonData.data.shape) + \"\\n\")\n",
    "print(\"Boston feature names: \" + str(bostonData.feature_names) + \"\\n\")"
   ]
  },
  {
   "cell_type": "code",
   "execution_count": 4,
   "metadata": {
    "collapsed": true
   },
   "outputs": [],
   "source": [
    "#print(bostonData.DESCR)"
   ]
  },
  {
   "cell_type": "code",
   "execution_count": 5,
   "metadata": {},
   "outputs": [
    {
     "name": "stdout",
     "output_type": "stream",
     "text": [
      "        0     1     2    3      4      5     6       7    8      9     10  \\\n",
      "0  0.00632  18.0  2.31  0.0  0.538  6.575  65.2  4.0900  1.0  296.0  15.3   \n",
      "1  0.02731   0.0  7.07  0.0  0.469  6.421  78.9  4.9671  2.0  242.0  17.8   \n",
      "2  0.02729   0.0  7.07  0.0  0.469  7.185  61.1  4.9671  2.0  242.0  17.8   \n",
      "3  0.03237   0.0  2.18  0.0  0.458  6.998  45.8  6.0622  3.0  222.0  18.7   \n",
      "4  0.06905   0.0  2.18  0.0  0.458  7.147  54.2  6.0622  3.0  222.0  18.7   \n",
      "\n",
      "       11    12  \n",
      "0  396.90  4.98  \n",
      "1  396.90  9.14  \n",
      "2  392.83  4.03  \n",
      "3  394.63  2.94  \n",
      "4  396.90  5.33  \n",
      "----------------------------------------------------------------------------------\n"
     ]
    }
   ],
   "source": [
    "bostonAsDataFrame = pd.DataFrame(bostonData.data)\n",
    "print(bostonAsDataFrame.head())\n",
    "print(\"----------------------------------------------------------------------------------\")"
   ]
  },
  {
   "cell_type": "code",
   "execution_count": 6,
   "metadata": {},
   "outputs": [
    {
     "name": "stdout",
     "output_type": "stream",
     "text": [
      "      CRIM    ZN  INDUS  CHAS    NOX     RM   AGE     DIS  RAD    TAX  \\\n",
      "0  0.00632  18.0   2.31   0.0  0.538  6.575  65.2  4.0900  1.0  296.0   \n",
      "1  0.02731   0.0   7.07   0.0  0.469  6.421  78.9  4.9671  2.0  242.0   \n",
      "2  0.02729   0.0   7.07   0.0  0.469  7.185  61.1  4.9671  2.0  242.0   \n",
      "3  0.03237   0.0   2.18   0.0  0.458  6.998  45.8  6.0622  3.0  222.0   \n",
      "4  0.06905   0.0   2.18   0.0  0.458  7.147  54.2  6.0622  3.0  222.0   \n",
      "\n",
      "   PTRATIO       B  LSTAT  \n",
      "0     15.3  396.90   4.98  \n",
      "1     17.8  396.90   9.14  \n",
      "2     17.8  392.83   4.03  \n",
      "3     18.7  394.63   2.94  \n",
      "4     18.7  396.90   5.33  \n",
      "----------------------------------------------------------------------------------\n"
     ]
    }
   ],
   "source": [
    "bostonAsDataFrame.columns = bostonData.feature_names\n",
    "print(bostonAsDataFrame.head())\n",
    "print(\"----------------------------------------------------------------------------------\")"
   ]
  },
  {
   "cell_type": "code",
   "execution_count": 7,
   "metadata": {
    "collapsed": true
   },
   "outputs": [],
   "source": [
    "#bostonAsDataFrame['PRICE'] = bostonData.target\n",
    "#print(bostonAsDataFrame.head())\n",
    "#print(\"----------------------------------------------------------------------------------\")"
   ]
  },
  {
   "cell_type": "code",
   "execution_count": 8,
   "metadata": {
    "collapsed": true
   },
   "outputs": [],
   "source": [
    "boston1 = bostonAsDataFrame.as_matrix()\n",
    "Q, R = np.linalg.qr(boston1)"
   ]
  },
  {
   "cell_type": "code",
   "execution_count": 9,
   "metadata": {
    "collapsed": true
   },
   "outputs": [],
   "source": [
    "boston2 = bostonData.target"
   ]
  },
  {
   "cell_type": "code",
   "execution_count": 10,
   "metadata": {
    "collapsed": true
   },
   "outputs": [],
   "source": [
    "def QRFactorizationUsingGramSchmidtMethodOfOrthogonalization(matrix):\n",
    "    m, n = matrix.shape\n",
    "    Q = np.zeros([m, n], dtype=np.float64)\n",
    "    R = np.zeros([n, n], dtype=np.float64)\n",
    "    for j in range(n):\n",
    "        v = matrix[:, j]\n",
    "        for i in range(j):\n",
    "            R[i, j] = np.dot(Q[:, i], matrix[:, j])\n",
    "            v = v - (R[i, j] * Q[:, i])\n",
    "        R[j, j] = np.linalg.norm(v)\n",
    "        Q[:, j] = v / R[j, j]\n",
    "    return Q, R"
   ]
  },
  {
   "cell_type": "code",
   "execution_count": 11,
   "metadata": {
    "collapsed": true
   },
   "outputs": [],
   "source": [
    "def QRFactorizationUsingHausholderMethodOfTriangularization(matrix):\n",
    "    m, n = matrix.shape\n",
    "    R = np.copy(matrix)\n",
    "    Q = np.eye(m)\n",
    "    for k in range(n):\n",
    "        v = np.copy(R[k:, k])\n",
    "        v = np.reshape(v, (m-k, 1))\n",
    "        v[0] += np.sign(v[0]) * np.linalg.norm(v)\n",
    "        v /= np.linalg.norm(v)\n",
    "        R[k:, k:] = R[k:, k:] - 2 * v @ v.T @ R[k:, k:]\n",
    "        Q[k:] = Q[k:]-2 * v @ v.T @ Q[k:]\n",
    "    R = R[0:n, 0:]\n",
    "    Q = Q[0:n, 0:]\n",
    "    return R, Q.T"
   ]
  },
  {
   "cell_type": "code",
   "execution_count": 12,
   "metadata": {},
   "outputs": [
    {
     "name": "stdout",
     "output_type": "stream",
     "text": [
      "Time of execution \n",
      "\n",
      "Time needed to execute QR factorization using Gram-Schmidt method of orthogonalization: 0.0030057430\n"
     ]
    }
   ],
   "source": [
    "print(\"Time of execution \\n\")\n",
    "# cgsm short for classicalGramSchmidtMethod\n",
    "# Calculating time for classical Gram-Schmidt method\n",
    "timeOfStart = time.time()\n",
    "Qcgsm, Rcgsm = QRFactorizationUsingGramSchmidtMethodOfOrthogonalization(boston1)\n",
    "timeOfEnd = time.time()\n",
    "timeNeededForCgsm = timeOfEnd - timeOfStart\n",
    "print(\"Time needed to execute QR factorization using Gram-Schmidt method of orthogonalization: %.10f\" % timeNeededForCgsm)"
   ]
  },
  {
   "cell_type": "code",
   "execution_count": 13,
   "metadata": {},
   "outputs": [
    {
     "name": "stdout",
     "output_type": "stream",
     "text": [
      "Time needed to execute QR factorization using Hausholder method of triangularization: 0.1041257381\n"
     ]
    }
   ],
   "source": [
    "# Calculating time of execution of Householder method\n",
    "timeOfStart = time.time()\n",
    "Rh, Qh = QRFactorizationUsingHausholderMethodOfTriangularization(boston1)\n",
    "timeOfEnd = time.time()\n",
    "timeNeededForHm = timeOfEnd - timeOfStart\n",
    "print(\"Time needed to execute QR factorization using Hausholder method of triangularization: %.10f\" % timeNeededForHm)"
   ]
  },
  {
   "cell_type": "code",
   "execution_count": 14,
   "metadata": {},
   "outputs": [
    {
     "name": "stdout",
     "output_type": "stream",
     "text": [
      "Execution of Gram-Schmidt method takes 0.1011199951 seconds less than Householder method\n",
      "----------------------------------------------------------------------------------\n"
     ]
    }
   ],
   "source": [
    "differenceBetweenTimesOfExecution = abs(timeNeededForCgsm - timeNeededForHm)\n",
    "if timeNeededForCgsm < timeNeededForHm:\n",
    "    print(\"Execution of Gram-Schmidt method takes %.10f seconds less than Householder method\" % differenceBetweenTimesOfExecution)\n",
    "elif timeNeededForCgsm > timeNeededForHm:\n",
    "    print(\"Execution of Householder method takes %.10f seconds less than Gram-Schmidt method\" % differenceBetweenTimesOfExecution)\n",
    "else:\n",
    "    print(\"Both methods take same amount of time to execute\")\n",
    "print(\"----------------------------------------------------------------------------------\")"
   ]
  },
  {
   "cell_type": "code",
   "execution_count": 15,
   "metadata": {},
   "outputs": [
    {
     "name": "stdout",
     "output_type": "stream",
     "text": [
      "Residuum \n",
      "\n",
      "Difference between original matrix and matrix obtained with QR factorization\n",
      "using Gram-Schmidt method is: 2.14251637752e-12\n",
      "Difference between original matrix and matrix obtained with QR factorization\n",
      "using Householder method is: 1.75123601993e-11\n"
     ]
    }
   ],
   "source": [
    "print(\"Residuum \\n\")\n",
    "residuumWithCgsm = np.linalg.norm(boston1 - Qcgsm @ Rcgsm)\n",
    "residuumWithHm = np.linalg.norm(boston1 - Qh @ Rh)\n",
    "print(\"Difference between original matrix and matrix obtained with QR factorization\\nusing Gram-Schmidt method is: %s\" % residuumWithCgsm)\n",
    "print(\"Difference between original matrix and matrix obtained with QR factorization\\nusing Householder method is: %s\" % residuumWithHm)"
   ]
  },
  {
   "cell_type": "code",
   "execution_count": 16,
   "metadata": {},
   "outputs": [
    {
     "name": "stdout",
     "output_type": "stream",
     "text": [
      "QR factorization using Gram-Schmidt method of orthogonalization is more precise\n",
      "----------------------------------------------------------------------------------\n"
     ]
    }
   ],
   "source": [
    "differenceBetweenResiduum = residuumWithCgsm - residuumWithHm\n",
    "\n",
    "if differenceBetweenResiduum < 0:\n",
    "    print(\"QR factorization using Gram-Schmidt method of orthogonalization is more precise\")\n",
    "elif differenceBetweenResiduum > 0:\n",
    "    print(\"QR factorization using Hausholder method of triangularization is more precise\")\n",
    "else:\n",
    "    print(\"Both methods are equally precise\")\n",
    "print(\"----------------------------------------------------------------------------------\")"
   ]
  },
  {
   "cell_type": "code",
   "execution_count": 17,
   "metadata": {
    "collapsed": true
   },
   "outputs": [],
   "source": [
    "def regr_metrics(act, pred):\n",
    "    return (math.sqrt(metrics.mean_squared_error(act, pred)), metrics.mean_absolute_error(act, pred))"
   ]
  },
  {
   "cell_type": "code",
   "execution_count": 18,
   "metadata": {
    "collapsed": true
   },
   "outputs": [],
   "source": [
    "X=boston1\n",
    "Y=boston2"
   ]
  },
  {
   "cell_type": "code",
   "execution_count": 19,
   "metadata": {
    "collapsed": true
   },
   "outputs": [],
   "source": [
    "X_train, X_test, Y_train, Y_test = train_test_split(X, Y, test_size=0.4, random_state=160)"
   ]
  },
  {
   "cell_type": "code",
   "execution_count": 20,
   "metadata": {
    "collapsed": true
   },
   "outputs": [],
   "source": [
    "trn_int = np.c_[X_train, np.ones(X_train.shape[0])]\n",
    "test_int = np.c_[X_test, np.ones(X_test.shape[0])]"
   ]
  },
  {
   "cell_type": "code",
   "execution_count": 21,
   "metadata": {
    "collapsed": true
   },
   "outputs": [],
   "source": [
    "def ls_qrGS(A,b):\n",
    "    Q, R = QRFactorizationUsingGramSchmidtMethodOfOrthogonalization(A)\n",
    "    return sc.linalg.solve_triangular(R, Q.T @ b)"
   ]
  },
  {
   "cell_type": "code",
   "execution_count": 22,
   "metadata": {
    "collapsed": true
   },
   "outputs": [],
   "source": [
    "def ls_qrHM(A,b):\n",
    "    R, Q = QRFactorizationUsingHausholderMethodOfTriangularization(A)\n",
    "    return sc.linalg.solve_triangular(R, Q.T @ b)"
   ]
  },
  {
   "cell_type": "code",
   "execution_count": 23,
   "metadata": {},
   "outputs": [
    {
     "name": "stdout",
     "output_type": "stream",
     "text": [
      "[ -8.13822053e-02   5.05879996e-02   6.74948498e-02   3.42493371e+00\n",
      "  -1.99120985e+01   3.17808719e+00   1.57988941e-02  -1.29639733e+00\n",
      "   2.72584828e-01  -8.99428520e-03  -1.07663127e+00   6.70483495e-03\n",
      "  -5.79107180e-01   4.18330153e+01]\n"
     ]
    }
   ],
   "source": [
    "coeffs_qr1 = ls_qrGS(trn_int, Y_train)\n",
    "print(coeffs_qr1)"
   ]
  },
  {
   "cell_type": "code",
   "execution_count": 24,
   "metadata": {},
   "outputs": [
    {
     "name": "stdout",
     "output_type": "stream",
     "text": [
      "[ -8.13822053e-02   5.05879996e-02   6.74948498e-02   3.42493371e+00\n",
      "  -1.99120985e+01   3.17808719e+00   1.57988941e-02  -1.29639733e+00\n",
      "   2.72584828e-01  -8.99428520e-03  -1.07663127e+00   6.70483495e-03\n",
      "  -5.79107180e-01   4.18330153e+01]\n"
     ]
    }
   ],
   "source": [
    "coeffs_qr2 = ls_qrHM(trn_int, Y_train)\n",
    "print(coeffs_qr2)"
   ]
  },
  {
   "cell_type": "code",
   "execution_count": 25,
   "metadata": {},
   "outputs": [
    {
     "data": {
      "text/plain": [
       "array([ -5.23192600e-15,   3.12944115e-15,   1.67921232e-15,\n",
       "        -4.13002965e-14,  -2.64677169e-12,  -5.21804822e-13,\n",
       "         3.56312202e-15,  -1.01252340e-13,   1.91513472e-14,\n",
       "        -1.45716772e-16,  -7.86037901e-14,  -8.17922119e-16,\n",
       "        -2.89768209e-14,   6.84963197e-12])"
      ]
     },
     "execution_count": 25,
     "metadata": {},
     "output_type": "execute_result"
    }
   ],
   "source": [
    "coeffs_qr1-coeffs_qr2"
   ]
  },
  {
   "cell_type": "code",
   "execution_count": 26,
   "metadata": {},
   "outputs": [
    {
     "data": {
      "text/plain": [
       "(5.239127635127724, 3.7328578405817687)"
      ]
     },
     "execution_count": 26,
     "metadata": {},
     "output_type": "execute_result"
    }
   ],
   "source": [
    "regr_metrics(Y_test, test_int @ coeffs_qr1)"
   ]
  },
  {
   "cell_type": "code",
   "execution_count": 27,
   "metadata": {},
   "outputs": [
    {
     "data": {
      "text/plain": [
       "(5.239127635127681, 3.732857840581711)"
      ]
     },
     "execution_count": 27,
     "metadata": {},
     "output_type": "execute_result"
    }
   ],
   "source": [
    "regr_metrics(Y_test, test_int @ coeffs_qr2)"
   ]
  },
  {
   "cell_type": "code",
   "execution_count": 28,
   "metadata": {},
   "outputs": [
    {
     "data": {
      "image/png": "[encoded data removed]",
      "text/plain": [
       "<matplotlib.figure.Figure at 0x1f04794de48>"
      ]
     },
     "metadata": {},
     "output_type": "display_data"
    }
   ],
   "source": [
    "ax = sns.regplot(Y_test, test_int @ coeffs_qr1, color='c')\n",
    "plt.xlabel(\"Actual prices\")\n",
    "plt.ylabel(\"Predicted prices\")\n",
    "plt.title(\"Actual prices vs Predicted prices\")\n",
    "plt.show()"
   ]
  },
  {
   "cell_type": "code",
   "execution_count": 29,
   "metadata": {},
   "outputs": [
    {
     "data": {
      "image/png": "[encoded data removed]",
      "text/plain": [
       "<matplotlib.figure.Figure at 0x1f04794dda0>"
      ]
     },
     "metadata": {},
     "output_type": "display_data"
    }
   ],
   "source": [
    "ax = sns.regplot(Y_test, test_int @ coeffs_qr2, color='c')\n",
    "plt.xlabel(\"Actual prices\")\n",
    "plt.ylabel(\"Predicted prices\")\n",
    "plt.title(\"Actual prices vs Predicted prices\")\n",
    "plt.show()"
   ]
  },
  {
   "cell_type": "code",
   "execution_count": 30,
   "metadata": {},
   "outputs": [
    {
     "data": {
      "image/png": "[encoded data removed]",
      "text/plain": [
       "<matplotlib.figure.Figure at 0x1f04796d2e8>"
      ]
     },
     "metadata": {},
     "output_type": "display_data"
    }
   ],
   "source": [
    "X_tr, X_te, Y_tr, Y_te = train_test_split(X, Y, test_size=0.4, random_state=160)\n",
    "\n",
    "lm = LinearRegression()\n",
    "lm.fit(X_tr, Y_tr)\n",
    "\n",
    "Y_pred = lm.predict(X_te)\n",
    "\n",
    "ax = sns.regplot(Y_te, Y_pred, color='c')\n",
    "plt.xlabel(\"Actual prices\")\n",
    "plt.ylabel(\"Predicted prices\")\n",
    "plt.title(\"Actual prices vs Predicted prices\")\n",
    "plt.show()"
   ]
  },
  {
   "cell_type": "code",
   "execution_count": null,
   "metadata": {
    "collapsed": true
   },
   "outputs": [],
   "source": []
  }
 ],
 "metadata": {
  "kernelspec": {
   "display_name": "Python 3",
   "language": "python",
   "name": "python3"
  },
  "language_info": {
   "codemirror_mode": {
    "name": "ipython",
    "version": 3
   },
   "file_extension": ".py",
   "mimetype": "text/x-python",
   "name": "python",
   "nbconvert_exporter": "python",
   "pygments_lexer": "ipython3",
   "version": "3.6.3"
  }
 },
 "nbformat": 4,
 "nbformat_minor": 2
}
